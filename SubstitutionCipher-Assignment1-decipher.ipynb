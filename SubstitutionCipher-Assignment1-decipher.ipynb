{
 "cells": [
  {
   "cell_type": "markdown",
   "metadata": {},
   "source": [
    "####  Cipher Text\n",
    "\n",
    "wsam ie pjo ysgtm eyipbya .P axg niphay y, mey syw ahgm ewhrg tw hmysyam wh meyiepjo ys .Ag jygtmeyk pmys ie pjo ysavw kkoyjgsy whmy sy amwh rmephmewagh y!Me yigu ynay utg smew ajya apr ywap awjfkya no a mwmnmw ghiwfeyswhve wieuwr wm aepby oyyhae wtmy uox8 fkpiya. Me y fpaavgs uwa mxSrN03u wd dvwmegnmmey dngmya. Mew awameyt"
   ]
  },
  {
   "cell_type": "code",
   "execution_count": 2,
   "metadata": {},
   "outputs": [
    {
     "name": "stdout",
     "output_type": "stream",
     "text": [
      "Enter the cipher text\n",
      "wsam ie pjo ysgtm eyipbya .P axg niphay y, mey syw ahgm ewhrg tw hmysyam wh meyiepjo ys .Ag jygtmeyk pmys ie pjo ysavw kkoyjgsy whmy sy amwh rmephmewagh y!Me yigu ynay utg smew ajya apr ywap awjfkya no a mwmnmw ghiwfeyswhve wieuwr wm aepby oyyhae wtmy uox8 fkpiya. Me y fpaavgs uwa mxSrN03u wd dvwmegnmmey dngmya. Mew awameyt\n"
     ]
    }
   ],
   "source": [
    "text = input(\"Enter the cipher text\\n\")"
   ]
  },
  {
   "cell_type": "markdown",
   "metadata": {},
   "source": [
    "#### Shifting the text by 10 places to the right"
   ]
  },
  {
   "cell_type": "code",
   "execution_count": 28,
   "metadata": {},
   "outputs": [
    {
     "name": "stdout",
     "output_type": "stream",
     "text": [
      "Text after shifting by 10 places:\n",
      "Mewa wa mey twsam iepjoys gt mey ipbya. Pa xgn iph ayy, meysy wa hgmewhr gt whmysyam wh mey iepjoys. Agjy gt mey kpmys iepjoysa vwkk oy jgsy whmysyamwhr meph mewa ghy! Mey iguy nayu tgs mewa jyaapry wa p awjfky anoamwmnmwgh iwfeys wh vewie uwrwma epby oyyh aewtmyu ox 8 fkpiya. Mey fpaavgsu wa mxSrN03uwdd vwmegnm mey dngmya.\n"
     ]
    }
   ],
   "source": [
    "## With the general observation, we can see that the text is rotated by some places as we can see some words containing mixture\n",
    "## of letters and digits. Lets try to seperate '8' from the word 'uox8'\n",
    "arr=[None]*len(text)\n",
    "arr_ptr=0\n",
    "text_ptr=0\n",
    "\n",
    "for text_ptr in range(len(text)):\n",
    "    if text[text_ptr]==' ':\n",
    "        arr[text_ptr] = \" \"\n",
    "\n",
    "arr_ptr=0\n",
    "text_ptr=0\n",
    "\n",
    "count=0\n",
    "while count!=10:\n",
    "    if arr[arr_ptr]!=\" \":\n",
    "        count+=1\n",
    "        arr_ptr+=1\n",
    "    else:\n",
    "        arr_ptr+=1\n",
    "while text_ptr<len(text):\n",
    "    if text[text_ptr]==\" \":\n",
    "        text_ptr+=1\n",
    "        continue\n",
    "    \n",
    "    if arr[arr_ptr]!=\" \":\n",
    "        arr[arr_ptr] = text[text_ptr]\n",
    "        arr_ptr+=1\n",
    "        if arr_ptr>=len(text):\n",
    "            arr_ptr%=len(text)\n",
    "        text_ptr+=1\n",
    "    if arr[arr_ptr]==\" \":\n",
    "        arr_ptr+=1\n",
    "        if arr_ptr>=len(text):\n",
    "            arr_ptr%=len(text)\n",
    "\n",
    "text = ('').join(arr)\n",
    "print(\"Text after shifting by 10 places:\")\n",
    "print(text)"
   ]
  },
  {
   "cell_type": "markdown",
   "metadata": {},
   "source": [
    "###  Frequencies in cipher text"
   ]
  },
  {
   "cell_type": "code",
   "execution_count": 30,
   "metadata": {},
   "outputs": [
    {
     "name": "stdout",
     "output_type": "stream",
     "text": [
      "{'0': 0.3076923076923077, '!': 0.3076923076923077, 'S': 0.3076923076923077, '3': 0.3076923076923077, 'A': 0.3076923076923077, 'P': 0.3076923076923077, 'N': 0.3076923076923077, '8': 0.3076923076923077, ',': 0.3076923076923077, 'b': 0.6153846153846154, 'M': 0.9230769230769231, 'd': 0.9230769230769231, 'x': 0.9230769230769231, 'f': 1.2307692307692308, '.': 1.2307692307692308, 'v': 1.2307692307692308, 'r': 1.5384615384615385, 'k': 1.5384615384615385, 'u': 1.8461538461538463, 'n': 1.8461538461538463, 't': 1.8461538461538463, 'o': 2.1538461538461537, 'j': 2.1538461538461537, 'i': 2.769230769230769, 'h': 3.6923076923076925, 's': 3.6923076923076925, 'p': 3.6923076923076925, 'g': 4.3076923076923075, 'e': 6.769230769230769, 'w': 7.6923076923076925, 'm': 7.6923076923076925, 'a': 8.0, 'y': 11.076923076923077, ' ': 17.846153846153847}\n"
     ]
    }
   ],
   "source": [
    "# As we can see, by shifting the characters by 10 places we are able to seperate letter '8'. Now if we apply frequency analysis on this\n",
    "# We can get some hints.\n",
    "encrypted_msg_counts = {i: text.count(i) for i in set(text)}\n",
    "encrypted_msg_counts = dict(sorted(encrypted_msg_counts.items(), key=lambda item: item[1]))\n",
    "for letter in encrypted_msg_counts:\n",
    "    encrypted_msg_counts[letter]=(encrypted_msg_counts[letter]/len(text))*100\n",
    "    \n",
    "print(encrypted_msg_counts)"
   ]
  },
  {
   "cell_type": "markdown",
   "metadata": {},
   "source": [
    "###  Mapping"
   ]
  },
  {
   "cell_type": "code",
   "execution_count": 33,
   "metadata": {},
   "outputs": [],
   "source": [
    "# From this we can see the most frequent letter is 'y'. If we replace it with 'e' as 'e' is the most frequent letter in english character. We get hints for some more letters\n",
    "decipher = text.translate(str.maketrans({  \\\n",
    "    'a':'s','y':'e','w':'i','m':'t','e':'h','M':'T',\\\n",
    "    't':'f','s':'r','g':'o','h':'n','r':'g','P':'A',\\\n",
    "    'p':'a','x':'y','u':'d','f':'p','v':'w','n':'u',\\\n",
    "    'd':'q','i':'c','j':'m','o':'b','A':'S','b':'v',\\\n",
    "    'k':'l','N':'U','S':'R'}))"
   ]
  },
  {
   "cell_type": "code",
   "execution_count": 34,
   "metadata": {},
   "outputs": [
    {
     "name": "stdout",
     "output_type": "stream",
     "text": [
      "This is the first chamber of the caves. As you can see, there is nothing of interest in the chamber. Some of the later chambers will be more interesting than this one! The code used for this message is a simple substitution cipher in which digits have been shifted by 8 places. The password is tyRgU03diqq without the quotes.\n"
     ]
    }
   ],
   "source": [
    "print(decipher)"
   ]
  },
  {
   "cell_type": "code",
   "execution_count": 3,
   "metadata": {},
   "outputs": [],
   "source": [
    "# From the deciphered text, we get the password as 'tyRgU03diqq' but numbers are not correct in it."
   ]
  }
 ],
 "metadata": {
  "kernelspec": {
   "display_name": "Python 3",
   "language": "python",
   "name": "python3"
  },
  "language_info": {
   "codemirror_mode": {
    "name": "ipython",
    "version": 3
   },
   "file_extension": ".py",
   "mimetype": "text/x-python",
   "name": "python",
   "nbconvert_exporter": "python",
   "pygments_lexer": "ipython3",
   "version": "3.8.3"
  }
 },
 "nbformat": 4,
 "nbformat_minor": 4
}
